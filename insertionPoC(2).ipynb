{
  "nbformat": 4,
  "nbformat_minor": 0,
  "metadata": {
    "colab": {
      "provenance": []
    },
    "kernelspec": {
      "name": "python3",
      "display_name": "Python 3"
    },
    "language_info": {
      "name": "python"
    }
  },
  "cells": [
    {
      "cell_type": "code",
      "execution_count": null,
      "metadata": {
        "id": "tZGwopH4Y7oL"
      },
      "outputs": [],
      "source": [
        "# Template for testing Insertion-Sort on small lists, outputing each intermediate step\n",
        "#Alex Keim, 10/3/2025\n",
        "#Used in-class PoC code as base, added timing and multiple test cases"
      ]
    },
    {
      "cell_type": "code",
      "source": [
        "import random\n",
        "import datetime\n",
        "import math\n",
        "# Alex Keim\n",
        "# 9/15/2025\n",
        "# Insertion Sort"
      ],
      "metadata": {
        "id": "fSME9MywceAq"
      },
      "execution_count": null,
      "outputs": []
    },
    {
      "cell_type": "code",
      "source": [
        "def insertion(A,print_flag):\n",
        "\n",
        "\n",
        "\n",
        "# Insertion-Sort(A,n)\n",
        "  i=0\n",
        "  for i in range (0, N):\n",
        "    key = A[i]\n",
        "# insert A[i] into sorted seq A[1]..A[i-1]\n",
        "    j = i-1\n",
        "    while j>=0 and A[j]>key:\n",
        "       A[j+1] = A[j]\n",
        "       j = j-1\n",
        "    A[j+1] = key\n"
      ],
      "metadata": {
        "id": "TJZL4jFQZhAp"
      },
      "execution_count": null,
      "outputs": []
    },
    {
      "cell_type": "code",
      "source": [
        "#Random data\n",
        "size_array = [5,8,10,100,1000,2500,5000,7500,10000]\n",
        "\n",
        "for N in size_array:\n",
        "  A = list(range(N))\n",
        "\n",
        "  random.shuffle(A)\n",
        "\n",
        "\n",
        "  start_time = datetime.datetime.now()\n",
        "  #print(A)\n",
        "  insertion(A,False)\n",
        "  end_time = datetime.datetime.now()\n",
        "  elapsed_time = (end_time - start_time).total_seconds()\n",
        "  #print(A)\n",
        "  ratio = (elapsed_time/(N * N))\n",
        "  print (\"length: \", N)\n",
        "  print(elapsed_time, \" sec\")\n",
        "  print (\"Ratio: \", ratio)"
      ],
      "metadata": {
        "colab": {
          "base_uri": "https://localhost:8080/"
        },
        "id": "f1GS3NjwZqmS",
        "outputId": "9cd2b7bd-488c-4f2e-8da6-f0b780f41b99"
      },
      "execution_count": null,
      "outputs": [
        {
          "output_type": "stream",
          "name": "stdout",
          "text": [
            "length:  5\n",
            "1.1e-05  sec\n",
            "Ratio:  4.3999999999999997e-07\n",
            "length:  8\n",
            "5e-06  sec\n",
            "Ratio:  7.8125e-08\n",
            "length:  10\n",
            "4e-06  sec\n",
            "Ratio:  4e-08\n",
            "length:  100\n",
            "0.000166  sec\n",
            "Ratio:  1.66e-08\n",
            "length:  1000\n",
            "0.034366  sec\n",
            "Ratio:  3.4366e-08\n",
            "length:  2500\n",
            "0.15715  sec\n",
            "Ratio:  2.5144000000000003e-08\n",
            "length:  5000\n",
            "0.600237  sec\n",
            "Ratio:  2.400948e-08\n",
            "length:  7500\n",
            "1.717476  sec\n",
            "Ratio:  3.053290666666667e-08\n",
            "length:  10000\n",
            "3.254646  sec\n",
            "Ratio:  3.254646e-08\n"
          ]
        }
      ]
    },
    {
      "cell_type": "code",
      "source": [
        "#Sorted (high->low) data\n",
        "size_array = [5,8,10,100,1000,2500,5000,7500,10000]\n",
        "\n",
        "for N in size_array:\n",
        "  A = list(range(N))\n",
        "\n",
        "\n",
        "\n",
        "  start_time = datetime.datetime.now()\n",
        "  #print(A)\n",
        "  insertion(A,False)\n",
        "  end_time = datetime.datetime.now()\n",
        "  elapsed_time = (end_time - start_time).total_seconds()\n",
        "  #print(A)\n",
        "  ratio = (elapsed_time/(N))\n",
        "  print (\"length: \", N)\n",
        "  print(elapsed_time, \" sec\")\n",
        "  print (\"Ratio: \", ratio)"
      ],
      "metadata": {
        "id": "rPbegnxsNj7k",
        "outputId": "3bef3dec-aa6f-410c-d740-b40a2ec8171d",
        "colab": {
          "base_uri": "https://localhost:8080/"
        }
      },
      "execution_count": null,
      "outputs": [
        {
          "output_type": "stream",
          "name": "stdout",
          "text": [
            "length:  5\n",
            "7e-06  sec\n",
            "Ratio:  1.4e-06\n",
            "length:  8\n",
            "4e-06  sec\n",
            "Ratio:  5e-07\n",
            "length:  10\n",
            "2e-06  sec\n",
            "Ratio:  2e-07\n",
            "length:  100\n",
            "8e-06  sec\n",
            "Ratio:  8e-08\n",
            "length:  1000\n",
            "0.000107  sec\n",
            "Ratio:  1.07e-07\n",
            "length:  2500\n",
            "0.000321  sec\n",
            "Ratio:  1.284e-07\n",
            "length:  5000\n",
            "0.000563  sec\n",
            "Ratio:  1.126e-07\n",
            "length:  7500\n",
            "0.000882  sec\n",
            "Ratio:  1.176e-07\n",
            "length:  10000\n",
            "0.001207  sec\n",
            "Ratio:  1.207e-07\n"
          ]
        }
      ]
    },
    {
      "cell_type": "code",
      "source": [
        "#Sorted (low->high) data\n",
        "size_array = [5,8,10,100,1000,2500,5000,7500,10000]\n",
        "\n",
        "for N in size_array:\n",
        "  A = list(range(N))\n",
        "\n",
        "  A.reverse()\n",
        "\n",
        "\n",
        "  start_time = datetime.datetime.now()\n",
        "  #print(A)\n",
        "  insertion(A,False)\n",
        "  end_time = datetime.datetime.now()\n",
        "  elapsed_time = (end_time - start_time).total_seconds()\n",
        "  #print(A)\n",
        "  ratio = (elapsed_time/(N * N))\n",
        "  print (\"length: \", N)\n",
        "  print(elapsed_time, \" sec\")\n",
        "  print (\"Ratio: \", ratio)"
      ],
      "metadata": {
        "id": "VZ5zEXHKNknX",
        "outputId": "fe768666-fd3c-4e09-c1b9-499c7f2a72de",
        "colab": {
          "base_uri": "https://localhost:8080/"
        }
      },
      "execution_count": null,
      "outputs": [
        {
          "output_type": "stream",
          "name": "stdout",
          "text": [
            "length:  5\n",
            "7e-06  sec\n",
            "Ratio:  2.8e-07\n",
            "length:  8\n",
            "6e-06  sec\n",
            "Ratio:  9.375e-08\n",
            "length:  10\n",
            "4e-06  sec\n",
            "Ratio:  4e-08\n",
            "length:  100\n",
            "0.000329  sec\n",
            "Ratio:  3.29e-08\n",
            "length:  1000\n",
            "0.044779  sec\n",
            "Ratio:  4.4779e-08\n",
            "length:  2500\n",
            "0.296671  sec\n",
            "Ratio:  4.746736e-08\n",
            "length:  5000\n",
            "1.161598  sec\n",
            "Ratio:  4.646392e-08\n",
            "length:  7500\n",
            "3.869301  sec\n",
            "Ratio:  6.878757333333333e-08\n",
            "length:  10000\n",
            "4.735787  sec\n",
            "Ratio:  4.7357870000000005e-08\n"
          ]
        }
      ]
    }
  ]
}