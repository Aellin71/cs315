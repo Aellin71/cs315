{
  "nbformat": 4,
  "nbformat_minor": 0,
  "metadata": {
    "colab": {
      "provenance": [],
      "include_colab_link": true
    },
    "kernelspec": {
      "name": "python3",
      "display_name": "Python 3"
    },
    "language_info": {
      "name": "python"
    }
  },
  "cells": [
    {
      "cell_type": "markdown",
      "metadata": {
        "id": "view-in-github",
        "colab_type": "text"
      },
      "source": [
        "<a href=\"https://colab.research.google.com/github/Aellin71/cs315/blob/main/QuicksortPoCkey%20.ipynb\" target=\"_parent\"><img src=\"https://colab.research.google.com/assets/colab-badge.svg\" alt=\"Open In Colab\"/></a>"
      ]
    },
    {
      "cell_type": "code",
      "execution_count": null,
      "metadata": {
        "id": "t_LwP80OmwFK"
      },
      "outputs": [],
      "source": [
        "# Template for testing Quick-Sort on small lists, outputing each intermediate step\n",
        "#Alex Keim, 10/5/2025\n",
        "#Used in-class PoC code, added testing for multiple sample sizes and timing"
      ]
    },
    {
      "cell_type": "code",
      "source": [
        "import random\n",
        "import datetime\n",
        "import math\n",
        "import sys\n",
        "\n",
        "sys.setrecursionlimit(10**5)"
      ],
      "metadata": {
        "id": "LMcLd_etm-0Y"
      },
      "execution_count": 3,
      "outputs": []
    },
    {
      "cell_type": "code",
      "source": [
        "# Partition provided as a convenience\n",
        "\n",
        "def Partition(A,p,r):\n",
        "    x = A[r]\n",
        "    i = p - 1\n",
        "    for j in range(p,r):\n",
        "        if ( A[j] <= x ):\n",
        "            i = i + 1\n",
        "            #swap A[i] <--> A[j]\n",
        "            temp=A[i]\n",
        "            A[i]=A[j]\n",
        "            A[j]=temp\n",
        "    #swap A[i+1] <--> A[r]\n",
        "    temp=A[i+1]\n",
        "    A[i+1]=A[r]\n",
        "    A[r]=temp\n",
        "\n",
        "    return i + 1"
      ],
      "metadata": {
        "id": "TyWIYm1_nIYR"
      },
      "execution_count": 4,
      "outputs": []
    },
    {
      "cell_type": "code",
      "source": [
        "def Quicksort(A,p,r,print_flag):\n",
        "    if p < r:\n",
        "        q  = Partition(A , p , r)\n",
        "        #if print_flag:\n",
        "            #print(A)\n",
        "        Quicksort(A , p , q-1,print_flag)\n",
        "        Quicksort(A , q+1 , r,print_flag)"
      ],
      "metadata": {
        "id": "neX-YNcPnLpk"
      },
      "execution_count": 5,
      "outputs": []
    },
    {
      "cell_type": "code",
      "source": [
        "size_array = [5,8,10,100,1000,2500,5000,7500,10000]\n",
        "\n",
        "for N in size_array:\n",
        "  A = list(range(N))\n",
        "\n",
        "  random.shuffle(A)\n",
        "\n",
        "\n",
        "  start_time = datetime.datetime.now()\n",
        "  #print(A)\n",
        "  Quicksort(A,0,N-1,False)\n",
        "  end_time = datetime.datetime.now()\n",
        "  elapsed_time = (end_time - start_time).total_seconds()\n",
        "  #print(A)\n",
        "  ratio = (elapsed_time/(N * math.log(N,2)))\n",
        "  print (\"length: \", N)\n",
        "  print(elapsed_time, \" sec\")\n",
        "  print (\"Ratio: \", ratio)"
      ],
      "metadata": {
        "id": "RVXFjLS0nCeo",
        "colab": {
          "base_uri": "https://localhost:8080/"
        },
        "outputId": "9610d569-b289-4af1-ff90-77480a23a5a1"
      },
      "execution_count": 13,
      "outputs": [
        {
          "output_type": "stream",
          "name": "stdout",
          "text": [
            "length:  5\n",
            "1.1e-05  sec\n",
            "Ratio:  9.474884277614648e-07\n",
            "length:  8\n",
            "6e-06  sec\n",
            "Ratio:  2.5e-07\n",
            "length:  10\n",
            "4e-06  sec\n",
            "Ratio:  1.2041199826559247e-07\n",
            "length:  100\n",
            "4.5e-05  sec\n",
            "Ratio:  6.773174902439577e-08\n",
            "length:  1000\n",
            "0.000856  sec\n",
            "Ratio:  8.589389209612263e-08\n",
            "length:  2500\n",
            "0.002891  sec\n",
            "Ratio:  1.0244768480237959e-07\n",
            "length:  5000\n",
            "0.005834  sec\n",
            "Ratio:  9.495664969680732e-08\n",
            "length:  7500\n",
            "0.008875  sec\n",
            "Ratio:  9.192598619475561e-08\n",
            "length:  10000\n",
            "0.012082  sec\n",
            "Ratio:  9.092611019030553e-08\n"
          ]
        }
      ]
    },
    {
      "cell_type": "code",
      "source": [
        "#sorted data\n",
        "size_array = [5,8,10,100,1000,2500,5000,7500,10000]\n",
        "\n",
        "for N in size_array:\n",
        "  A = list(range(N))\n",
        "\n",
        "\n",
        "  start_time = datetime.datetime.now()\n",
        "  #print(A)\n",
        "  Quicksort(A,0,N-1,False)\n",
        "  end_time = datetime.datetime.now()\n",
        "  elapsed_time = (end_time - start_time).total_seconds()\n",
        "  #print(A)\n",
        "  ratio = (elapsed_time/(N * N))\n",
        "  print (\"length: \", N)\n",
        "  print(elapsed_time, \" sec\")\n",
        "  print (\"Ratio: \", ratio)"
      ],
      "metadata": {
        "colab": {
          "base_uri": "https://localhost:8080/"
        },
        "id": "oOuRKBpZ31Kc",
        "outputId": "00143f46-d5fa-4092-c407-9f3d330e481c"
      },
      "execution_count": 8,
      "outputs": [
        {
          "output_type": "stream",
          "name": "stdout",
          "text": [
            "length:  5\n",
            "2.8e-05  sec\n",
            "Ratio:  1.12e-06\n",
            "length:  8\n",
            "7e-06  sec\n",
            "Ratio:  1.09375e-07\n",
            "length:  10\n",
            "6e-06  sec\n",
            "Ratio:  6.000000000000001e-08\n",
            "length:  100\n",
            "0.000348  sec\n",
            "Ratio:  3.48e-08\n",
            "length:  1000\n",
            "0.039033  sec\n",
            "Ratio:  3.9032999999999996e-08\n",
            "length:  2500\n",
            "0.245324  sec\n",
            "Ratio:  3.9251839999999995e-08\n",
            "length:  5000\n",
            "1.032767  sec\n",
            "Ratio:  4.131068e-08\n",
            "length:  7500\n",
            "2.4758  sec\n",
            "Ratio:  4.401422222222222e-08\n",
            "length:  10000\n",
            "4.395244  sec\n",
            "Ratio:  4.395244e-08\n"
          ]
        }
      ]
    },
    {
      "cell_type": "code",
      "source": [
        "#reverse-sorted data\n",
        "size_array = [5,8,10,100,1000,2500,5000,7500,10000]\n",
        "\n",
        "for N in size_array:\n",
        "  A = list(range(N))\n",
        "\n",
        "  A.reverse()\n",
        "\n",
        "  start_time = datetime.datetime.now()\n",
        "  #print(A)\n",
        "  Quicksort(A,0,N-1,False)\n",
        "  end_time = datetime.datetime.now()\n",
        "  elapsed_time = (end_time - start_time).total_seconds()\n",
        "  #print(A)\n",
        "  ratio = (elapsed_time/(N * N))\n",
        "  print (\"length: \", N)\n",
        "  print(elapsed_time, \" sec\")\n",
        "  print (\"Ratio: \", ratio)"
      ],
      "metadata": {
        "colab": {
          "base_uri": "https://localhost:8080/"
        },
        "id": "mCEDrkX_4-Ej",
        "outputId": "7ffa5c44-8a9f-46ad-84d4-6733a93d98b5"
      },
      "execution_count": 11,
      "outputs": [
        {
          "output_type": "stream",
          "name": "stdout",
          "text": [
            "length:  5\n",
            "9e-06  sec\n",
            "Ratio:  3.6e-07\n",
            "length:  8\n",
            "7e-06  sec\n",
            "Ratio:  1.09375e-07\n",
            "length:  10\n",
            "6e-06  sec\n",
            "Ratio:  6.000000000000001e-08\n",
            "length:  100\n",
            "0.000257  sec\n",
            "Ratio:  2.5700000000000002e-08\n",
            "length:  1000\n",
            "0.027049  sec\n",
            "Ratio:  2.7049e-08\n",
            "length:  2500\n",
            "0.184302  sec\n",
            "Ratio:  2.948832e-08\n",
            "length:  5000\n",
            "0.662573  sec\n",
            "Ratio:  2.650292e-08\n",
            "length:  7500\n",
            "1.516095  sec\n",
            "Ratio:  2.69528e-08\n",
            "length:  10000\n",
            "3.195554  sec\n",
            "Ratio:  3.195554e-08\n"
          ]
        }
      ]
    }
  ]
}