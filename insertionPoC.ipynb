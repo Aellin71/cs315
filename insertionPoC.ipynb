{
  "nbformat": 4,
  "nbformat_minor": 0,
  "metadata": {
    "colab": {
      "provenance": [],
      "include_colab_link": true
    },
    "kernelspec": {
      "name": "python3",
      "display_name": "Python 3"
    },
    "language_info": {
      "name": "python"
    }
  },
  "cells": [
    {
      "cell_type": "markdown",
      "metadata": {
        "id": "view-in-github",
        "colab_type": "text"
      },
      "source": [
        "<a href=\"https://colab.research.google.com/github/Aellin71/cs315/blob/main/insertionPoC.ipynb\" target=\"_parent\"><img src=\"https://colab.research.google.com/assets/colab-badge.svg\" alt=\"Open In Colab\"/></a>"
      ]
    },
    {
      "cell_type": "code",
      "execution_count": null,
      "metadata": {
        "id": "tZGwopH4Y7oL"
      },
      "outputs": [],
      "source": [
        "# Template for testing Insertion-Sort on small lists, outputing each intermediate step"
      ]
    },
    {
      "cell_type": "code",
      "source": [
        "import random\n",
        "# Alex Keim\n",
        "# 9/15/2025\n",
        "# Insertion Sort"
      ],
      "metadata": {
        "id": "fSME9MywceAq"
      },
      "execution_count": 9,
      "outputs": []
    },
    {
      "cell_type": "code",
      "source": [
        "def insertion(A,print_flag):\n",
        "\n",
        "\n",
        "\n",
        "# Insertion-Sort(A,n)\n",
        "  i=0\n",
        "  for i in range (0, N):\n",
        "    key = A[i]\n",
        "# insert A[i] into sorted seq A[1]..A[i-1]\n",
        "    j = i-1\n",
        "    while j>=0 and A[j]>key:\n",
        "       A[j+1] = A[j]\n",
        "       j = j-1\n",
        "    A[j+1] = key\n",
        ""
      ],
      "metadata": {
        "id": "TJZL4jFQZhAp"
      },
      "execution_count": 47,
      "outputs": []
    },
    {
      "cell_type": "code",
      "source": [
        "N=8\n",
        "A = list(range(N))\n",
        "\n",
        "random.shuffle(A)\n",
        "\n",
        "print(A)\n",
        "insertion(A,True)\n",
        "print(A)"
      ],
      "metadata": {
        "colab": {
          "base_uri": "https://localhost:8080/"
        },
        "id": "f1GS3NjwZqmS",
        "outputId": "34aba1b5-863f-4b2a-d5e3-4e09bb3293f1"
      },
      "execution_count": 48,
      "outputs": [
        {
          "output_type": "stream",
          "name": "stdout",
          "text": [
            "[6, 1, 2, 4, 7, 3, 5, 0]\n",
            "[0, 1, 2, 3, 4, 5, 6, 7]\n"
          ]
        }
      ]
    }
  ]
}