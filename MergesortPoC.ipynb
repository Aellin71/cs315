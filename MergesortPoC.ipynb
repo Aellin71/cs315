{
  "nbformat": 4,
  "nbformat_minor": 0,
  "metadata": {
    "colab": {
      "provenance": [],
      "include_colab_link": true
    },
    "kernelspec": {
      "name": "python3",
      "display_name": "Python 3"
    },
    "language_info": {
      "name": "python"
    }
  },
  "cells": [
    {
      "cell_type": "markdown",
      "metadata": {
        "id": "view-in-github",
        "colab_type": "text"
      },
      "source": [
        "<a href=\"https://colab.research.google.com/github/Aellin71/cs315/blob/main/MergesortPoC.ipynb\" target=\"_parent\"><img src=\"https://colab.research.google.com/assets/colab-badge.svg\" alt=\"Open In Colab\"/></a>"
      ]
    },
    {
      "cell_type": "code",
      "execution_count": null,
      "metadata": {
        "id": "t_LwP80OmwFK"
      },
      "outputs": [],
      "source": [
        "#Alex Keim, 10/5/2025\n",
        "#used in class POC code, then added testing for varying sample sizes and timing"
      ]
    },
    {
      "cell_type": "code",
      "source": [
        "import random\n",
        "import datetime\n",
        "import math"
      ],
      "metadata": {
        "id": "LMcLd_etm-0Y"
      },
      "execution_count": 1,
      "outputs": []
    },
    {
      "cell_type": "code",
      "source": [
        "# Merge provided as a convenience\n",
        "\n",
        "def Merge(A,p,q,r):\n",
        "    nL = q-p+1\n",
        "    nR = r-q\n",
        "    Left = []\n",
        "    Right = []\n",
        "\n",
        "    for i in range(nL):\n",
        "        Left.append(A[p+i])\n",
        "    for j in range(nR):\n",
        "        Right.append(A[q+j+1])\n",
        "\n",
        "    i=0\n",
        "    j=0\n",
        "    k=p\n",
        "    while i<nL and j<nR:\n",
        "        if (Left[i]<=Right[j]):\n",
        "            A[k]=Left[i]\n",
        "            i+=1\n",
        "        else:\n",
        "            A[k]=Right[j]\n",
        "            j+=1\n",
        "        k+=1\n",
        "\n",
        "    while i< nL:\n",
        "        A[k]=Left[i]\n",
        "        i+=1\n",
        "        k+=1\n",
        "    while j< nR:\n",
        "        A[k]=Right[j]\n",
        "        j+=1\n",
        "        k+=1\n",
        "\n",
        "    return"
      ],
      "metadata": {
        "id": "TyWIYm1_nIYR"
      },
      "execution_count": 2,
      "outputs": []
    },
    {
      "cell_type": "code",
      "source": [
        "def Mergesort(A,p,r,print_flag):\n",
        "    if p >= r:\n",
        "        return\n",
        "    q = (p+r)//2\n",
        "\n",
        "    # Modify the following three calls:\n",
        "    Mergesort(A,p,q,print_flag)\n",
        "    Mergesort(A,q+1,r,print_flag)\n",
        "    Merge(A,p,q,r)\n",
        "\n",
        "    if print_flag:\n",
        "      print(A)\n",
        "    return"
      ],
      "metadata": {
        "id": "neX-YNcPnLpk"
      },
      "execution_count": 3,
      "outputs": []
    },
    {
      "cell_type": "code",
      "source": [
        "\n",
        "#Random data\n",
        "size_array = [5,8,10,100,1000,2500,5000,7500,10000]\n",
        "\n",
        "for N in size_array:\n",
        "  A = list(range(N))\n",
        "\n",
        "  random.shuffle(A)\n",
        "\n",
        "\n",
        "  start_time = datetime.datetime.now()\n",
        "  #print(A)\n",
        "  Mergesort(A,0,N-1,False)\n",
        "  end_time = datetime.datetime.now()\n",
        "  elapsed_time = (end_time - start_time).total_seconds()\n",
        "  #print(A)\n",
        "  ratio = (elapsed_time/(N * (math.log(N,2))))\n",
        "  print (\"length: \", N)\n",
        "  print(elapsed_time, \" sec\")\n",
        "  print (\"Ratio: \", ratio)"
      ],
      "metadata": {
        "colab": {
          "base_uri": "https://localhost:8080/"
        },
        "id": "RVXFjLS0nCeo",
        "outputId": "06829f58-d357-414e-94a0-9501862d5a8b"
      },
      "execution_count": 6,
      "outputs": [
        {
          "output_type": "stream",
          "name": "stdout",
          "text": [
            "length:  5\n",
            "1.9e-05  sec\n",
            "Ratio:  1.6365709206788938e-06\n",
            "length:  8\n",
            "2.4e-05  sec\n",
            "Ratio:  1e-06\n",
            "length:  10\n",
            "2e-05  sec\n",
            "Ratio:  6.020599913279624e-07\n",
            "length:  100\n",
            "0.000266  sec\n",
            "Ratio:  4.0036989423309496e-07\n",
            "length:  1000\n",
            "0.005646  sec\n",
            "Ratio:  5.665384518396126e-07\n",
            "length:  2500\n",
            "0.012025  sec\n",
            "Ratio:  4.261270874260168e-07\n",
            "length:  5000\n",
            "0.0145  sec\n",
            "Ratio:  2.360081283173991e-07\n",
            "length:  7500\n",
            "0.022827  sec\n",
            "Ratio:  2.3643881542171116e-07\n",
            "length:  10000\n",
            "0.030853  sec\n",
            "Ratio:  2.321919614055203e-07\n"
          ]
        }
      ]
    },
    {
      "cell_type": "code",
      "source": [
        "#Sorted data\n",
        "size_array = [5,8,10,100,1000,2500,5000,7500,10000]\n",
        "\n",
        "for N in size_array:\n",
        "  A = list(range(N))\n",
        "\n",
        "\n",
        "\n",
        "\n",
        "  start_time = datetime.datetime.now()\n",
        "  #print(A)\n",
        "  Mergesort(A,0,N-1,False)\n",
        "  end_time = datetime.datetime.now()\n",
        "  elapsed_time = (end_time - start_time).total_seconds()\n",
        "  #print(A)\n",
        "  ratio = (elapsed_time/(N * (math.log(N,2))))\n",
        "  print (\"length: \", N)\n",
        "  print(elapsed_time, \" sec\")\n",
        "  print (\"Ratio: \", ratio)"
      ],
      "metadata": {
        "id": "e8bThg4A0ytY",
        "outputId": "9910649b-f064-4381-a1f2-6409ed05b23a",
        "colab": {
          "base_uri": "https://localhost:8080/"
        }
      },
      "execution_count": 7,
      "outputs": [
        {
          "output_type": "stream",
          "name": "stdout",
          "text": [
            "length:  5\n",
            "1.4e-05  sec\n",
            "Ratio:  1.2058943626055007e-06\n",
            "length:  8\n",
            "1.6e-05  sec\n",
            "Ratio:  6.666666666666666e-07\n",
            "length:  10\n",
            "1.2e-05  sec\n",
            "Ratio:  3.612359947967774e-07\n",
            "length:  100\n",
            "0.000137  sec\n",
            "Ratio:  2.0620554702982709e-07\n",
            "length:  1000\n",
            "0.002654  sec\n",
            "Ratio:  2.6631120283073537e-07\n",
            "length:  2500\n",
            "0.00677  sec\n",
            "Ratio:  2.3990689246354544e-07\n",
            "length:  5000\n",
            "0.019577  sec\n",
            "Ratio:  3.186435260737739e-07\n",
            "length:  7500\n",
            "0.020555  sec\n",
            "Ratio:  2.1290576295585373e-07\n",
            "length:  10000\n",
            "0.03018  sec\n",
            "Ratio:  2.271271317284738e-07\n"
          ]
        }
      ]
    },
    {
      "cell_type": "code",
      "source": [
        "#Reverse ordered data\n",
        "size_array = [5,8,10,100,1000,2500,5000,7500,10000]\n",
        "\n",
        "for N in size_array:\n",
        "  A = list(range(N))\n",
        "\n",
        "  A.reverse()\n",
        "\n",
        "\n",
        "  start_time = datetime.datetime.now()\n",
        "  #print(A)\n",
        "  Mergesort(A,0,N-1,False)\n",
        "  end_time = datetime.datetime.now()\n",
        "  elapsed_time = (end_time - start_time).total_seconds()\n",
        "  #print(A)\n",
        "  ratio = (elapsed_time/(N * (math.log(N,2))))\n",
        "  print (\"length: \", N)\n",
        "  print(elapsed_time, \" sec\")\n",
        "  print (\"Ratio: \", ratio)"
      ],
      "metadata": {
        "id": "CHYPtaXI02lc",
        "outputId": "dd9ace5e-ac7a-4d1d-c463-96d939d9f77d",
        "colab": {
          "base_uri": "https://localhost:8080/"
        }
      },
      "execution_count": 10,
      "outputs": [
        {
          "output_type": "stream",
          "name": "stdout",
          "text": [
            "length:  5\n",
            "2.1e-05  sec\n",
            "Ratio:  1.808841543908251e-06\n",
            "length:  8\n",
            "2.4e-05  sec\n",
            "Ratio:  1e-06\n",
            "length:  10\n",
            "2e-05  sec\n",
            "Ratio:  6.020599913279624e-07\n",
            "length:  100\n",
            "0.00025  sec\n",
            "Ratio:  3.762874945799765e-07\n",
            "length:  1000\n",
            "0.003804  sec\n",
            "Ratio:  3.817060345019281e-07\n",
            "length:  2500\n",
            "0.010481  sec\n",
            "Ratio:  3.7141272376815654e-07\n",
            "length:  5000\n",
            "0.012864  sec\n",
            "Ratio:  2.0937990087413943e-07\n",
            "length:  7500\n",
            "0.020357  sec\n",
            "Ratio:  2.1085490715117074e-07\n",
            "length:  10000\n",
            "0.027791  sec\n",
            "Ratio:  2.0914811523744253e-07\n"
          ]
        }
      ]
    }
  ]
}