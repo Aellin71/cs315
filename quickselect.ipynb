{
  "nbformat": 4,
  "nbformat_minor": 0,
  "metadata": {
    "colab": {
      "provenance": [],
      "authorship_tag": "ABX9TyNnOVsC3o4KDEkaRnWrT/Gb",
      "include_colab_link": true
    },
    "kernelspec": {
      "name": "python3",
      "display_name": "Python 3"
    },
    "language_info": {
      "name": "python"
    }
  },
  "cells": [
    {
      "cell_type": "markdown",
      "metadata": {
        "id": "view-in-github",
        "colab_type": "text"
      },
      "source": [
        "<a href=\"https://colab.research.google.com/github/Aellin71/cs315/blob/main/quickselect.ipynb\" target=\"_parent\"><img src=\"https://colab.research.google.com/assets/colab-badge.svg\" alt=\"Open In Colab\"/></a>"
      ]
    },
    {
      "cell_type": "code",
      "execution_count": 16,
      "metadata": {
        "id": "ZiJEXk-k7oPT"
      },
      "outputs": [],
      "source": [
        "import random\n",
        "import datetime\n",
        "import math\n",
        "\n",
        "def quickselect(A, i):\n",
        "  if len(A) == 1:\n",
        "    return A[0]\n",
        "  pivot = random.choice(A)\n",
        "  lows = [x for x in A if x < pivot]\n",
        "  highs = [x for x in A if x > pivot]\n",
        "  pivots = [x for x in A if x == pivot]\n",
        "  if i <= len(lows):\n",
        "    return quickselect(lows, i)\n",
        "  elif i <= len(lows) + len(pivots):\n",
        "    return pivot\n",
        "  else:\n",
        "    return quickselect(highs, i - len(lows) - len(pivots))"
      ]
    },
    {
      "cell_type": "code",
      "source": [
        "#unsorted data\n",
        "size_array = [5,8,10,100,1000,2500,5000,7500,10000]\n",
        "\n",
        "for N in size_array:\n",
        "  A = list(range(N))\n",
        "\n",
        "  random.shuffle(A)\n",
        "\n",
        "\n",
        "  start_time = datetime.datetime.now()\n",
        "  #print(A)\n",
        "  quickselect(A,3)\n",
        "  end_time = datetime.datetime.now()\n",
        "  elapsed_time = (end_time - start_time).total_seconds()\n",
        "  #print(A)\n",
        "  ratio = (elapsed_time/(N))\n",
        "  print (\"length: \", N)\n",
        "  print(elapsed_time, \" sec\")\n",
        "  print (\"Ratio: \", ratio)"
      ],
      "metadata": {
        "colab": {
          "base_uri": "https://localhost:8080/"
        },
        "id": "G_QOnAlL7zzZ",
        "outputId": "d26e86ed-6bb0-4076-e23c-eaaad5af2eb4"
      },
      "execution_count": 20,
      "outputs": [
        {
          "output_type": "stream",
          "name": "stdout",
          "text": [
            "length:  5\n",
            "1.4e-05  sec\n",
            "Ratio:  2.8e-06\n",
            "length:  8\n",
            "1.4e-05  sec\n",
            "Ratio:  1.75e-06\n",
            "length:  10\n",
            "8e-06  sec\n",
            "Ratio:  8e-07\n",
            "length:  100\n",
            "3.7e-05  sec\n",
            "Ratio:  3.7e-07\n",
            "length:  1000\n",
            "0.000438  sec\n",
            "Ratio:  4.3800000000000003e-07\n",
            "length:  2500\n",
            "0.000297  sec\n",
            "Ratio:  1.188e-07\n",
            "length:  5000\n",
            "0.001155  sec\n",
            "Ratio:  2.31e-07\n",
            "length:  7500\n",
            "0.000847  sec\n",
            "Ratio:  1.1293333333333333e-07\n",
            "length:  10000\n",
            "0.002629  sec\n",
            "Ratio:  2.629e-07\n"
          ]
        }
      ]
    },
    {
      "cell_type": "code",
      "source": [
        "#sorted (low to high) data\n",
        "size_array = [5,8,10,100,1000,2500,5000,7500,10000]\n",
        "\n",
        "for N in size_array:\n",
        "  A = list(range(N))\n",
        "\n",
        "\n",
        "\n",
        "\n",
        "  start_time = datetime.datetime.now()\n",
        "  #print(A)\n",
        "  quickselect(A,3)\n",
        "  end_time = datetime.datetime.now()\n",
        "  elapsed_time = (end_time - start_time).total_seconds()\n",
        "  #print(A)\n",
        "  ratio = (elapsed_time/(N))\n",
        "  print (\"length: \", N)\n",
        "  print(elapsed_time, \" sec\")\n",
        "  print (\"Ratio: \", ratio)"
      ],
      "metadata": {
        "colab": {
          "base_uri": "https://localhost:8080/"
        },
        "id": "OGo6sTXd8nkO",
        "outputId": "18ce8bd5-4495-4fb1-f343-8ec143a848b5"
      },
      "execution_count": 15,
      "outputs": [
        {
          "output_type": "stream",
          "name": "stdout",
          "text": [
            "length:  5\n",
            "3.9e-05  sec\n",
            "Ratio:  7.8e-06\n",
            "length:  8\n",
            "3.6e-05  sec\n",
            "Ratio:  4.5e-06\n",
            "length:  10\n",
            "1.3e-05  sec\n",
            "Ratio:  1.2999999999999998e-06\n",
            "length:  100\n",
            "4.3e-05  sec\n",
            "Ratio:  4.3e-07\n",
            "length:  1000\n",
            "0.001082  sec\n",
            "Ratio:  1.082e-06\n",
            "length:  2500\n",
            "0.00042  sec\n",
            "Ratio:  1.68e-07\n",
            "length:  5000\n",
            "0.001321  sec\n",
            "Ratio:  2.642e-07\n",
            "length:  7500\n",
            "0.004714  sec\n",
            "Ratio:  6.285333333333334e-07\n",
            "length:  10000\n",
            "0.001329  sec\n",
            "Ratio:  1.329e-07\n"
          ]
        }
      ]
    },
    {
      "cell_type": "code",
      "source": [
        "#sorted (high to low) data\n",
        "size_array = [5,8,10,100,1000,2500,5000,7500,10000]\n",
        "\n",
        "for N in size_array:\n",
        "  A = list(range(N))\n",
        "  A.reverse()\n",
        "\n",
        "\n",
        "  start_time = datetime.datetime.now()\n",
        "  #print(A)\n",
        "  quickselect(A,3)\n",
        "  end_time = datetime.datetime.now()\n",
        "  elapsed_time = (end_time - start_time).total_seconds()\n",
        "  #print(A)\n",
        "  ratio = (elapsed_time/(N))\n",
        "  print (\"length: \", N)\n",
        "  print(elapsed_time, \" sec\")\n",
        "  print (\"Ratio: \", ratio)"
      ],
      "metadata": {
        "colab": {
          "base_uri": "https://localhost:8080/"
        },
        "id": "P9_pSVu18qN6",
        "outputId": "1f797dfa-13d7-405d-dacf-2fae0ddc1d9c"
      },
      "execution_count": 13,
      "outputs": [
        {
          "output_type": "stream",
          "name": "stdout",
          "text": [
            "length:  5\n",
            "1.4e-05  sec\n",
            "Ratio:  2.8e-06\n",
            "length:  8\n",
            "1.7e-05  sec\n",
            "Ratio:  2.125e-06\n",
            "length:  10\n",
            "1.8e-05  sec\n",
            "Ratio:  1.8000000000000001e-06\n",
            "length:  100\n",
            "2.2e-05  sec\n",
            "Ratio:  2.1999999999999998e-07\n",
            "length:  1000\n",
            "0.000117  sec\n",
            "Ratio:  1.17e-07\n",
            "length:  2500\n",
            "0.000247  sec\n",
            "Ratio:  9.88e-08\n",
            "length:  5000\n",
            "0.00051  sec\n",
            "Ratio:  1.0200000000000001e-07\n",
            "length:  7500\n",
            "0.00209  sec\n",
            "Ratio:  2.786666666666666e-07\n",
            "length:  10000\n",
            "0.000976  sec\n",
            "Ratio:  9.76e-08\n"
          ]
        }
      ]
    }
  ]
}