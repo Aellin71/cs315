{
  "nbformat": 4,
  "nbformat_minor": 0,
  "metadata": {
    "colab": {
      "provenance": [],
      "include_colab_link": true
    },
    "kernelspec": {
      "name": "python3",
      "display_name": "Python 3"
    },
    "language_info": {
      "name": "python"
    }
  },
  "cells": [
    {
      "cell_type": "markdown",
      "metadata": {
        "id": "view-in-github",
        "colab_type": "text"
      },
      "source": [
        "<a href=\"https://colab.research.google.com/github/Aellin71/cs315/blob/main/selectionPoC.ipynb\" target=\"_parent\"><img src=\"https://colab.research.google.com/assets/colab-badge.svg\" alt=\"Open In Colab\"/></a>"
      ]
    },
    {
      "cell_type": "code",
      "execution_count": null,
      "metadata": {
        "id": "tZGwopH4Y7oL"
      },
      "outputs": [],
      "source": [
        "# Template for testing Selection Sort on small lists, outputing each intermediate step\n",
        "#Alex Keim, 10/3/2025\n",
        "#Used in-class proof of concept pseudocode, converted it to functioning code, then added in multiple test cases"
      ]
    },
    {
      "cell_type": "code",
      "source": [
        "import random\n",
        "import datetime\n",
        "import math"
      ],
      "metadata": {
        "id": "fSME9MywceAq"
      },
      "execution_count": 23,
      "outputs": []
    },
    {
      "cell_type": "code",
      "source": [
        "def selection(A,print_flag):\n",
        "\n",
        "\n",
        "  n = len(A)\n",
        "  i=0\n",
        "  j=0\n",
        "  for i in range (n):\n",
        "    smallest = i\n",
        "    j=i+1\n",
        "    for j in range (n):\n",
        "      if A[smallest] < A[j]:\n",
        "        smallest = j\n",
        "\n",
        "        A[i], A[smallest] = A[smallest], A[i]"
      ],
      "metadata": {
        "id": "TJZL4jFQZhAp"
      },
      "execution_count": 16,
      "outputs": []
    },
    {
      "cell_type": "code",
      "source": [
        "#unsorted data\n",
        "size_array = [5,8,10,100,1000,2500,5000,7500,10000]\n",
        "\n",
        "for N in size_array:\n",
        "  A = list(range(N))\n",
        "\n",
        "  random.shuffle(A)\n",
        "\n",
        "\n",
        "  start_time = datetime.datetime.now()\n",
        "  #print(A)\n",
        "  selection(A,False)\n",
        "  end_time = datetime.datetime.now()\n",
        "  elapsed_time = (end_time - start_time).total_seconds()\n",
        "  #print(A)\n",
        "  ratio = (elapsed_time/(N * N))\n",
        "  print (\"length: \", N)\n",
        "  print(elapsed_time, \" sec\")\n",
        "  print (\"Ratio: \", ratio)"
      ],
      "metadata": {
        "id": "f1GS3NjwZqmS",
        "colab": {
          "base_uri": "https://localhost:8080/"
        },
        "outputId": "71fe11d6-3b4e-4997-b8cb-0b77df3a450b"
      },
      "execution_count": 26,
      "outputs": [
        {
          "output_type": "stream",
          "name": "stdout",
          "text": [
            "length:  5\n",
            "1.1e-05  sec\n",
            "Ratio:  4.3999999999999997e-07\n",
            "length:  8\n",
            "1.4e-05  sec\n",
            "Ratio:  2.1875e-07\n",
            "length:  10\n",
            "1.2e-05  sec\n",
            "Ratio:  1.2000000000000002e-07\n",
            "length:  100\n",
            "0.000759  sec\n",
            "Ratio:  7.59e-08\n",
            "length:  1000\n",
            "0.107171  sec\n",
            "Ratio:  1.07171e-07\n",
            "length:  2500\n",
            "0.674486  sec\n",
            "Ratio:  1.0791776e-07\n",
            "length:  5000\n",
            "2.220273  sec\n",
            "Ratio:  8.881092e-08\n",
            "length:  7500\n",
            "3.367602  sec\n",
            "Ratio:  5.986848e-08\n",
            "length:  10000\n",
            "5.880496  sec\n",
            "Ratio:  5.8804959999999997e-08\n"
          ]
        }
      ]
    },
    {
      "cell_type": "code",
      "source": [
        "#sorted (low to high) data\n",
        "size_array = [5,8,10,100,1000,2500,5000,7500,10000]\n",
        "\n",
        "for N in size_array:\n",
        "  A = list(range(N))\n",
        "\n",
        "\n",
        "\n",
        "\n",
        "  start_time = datetime.datetime.now()\n",
        "  #print(A)\n",
        "  selection(A,False)\n",
        "  end_time = datetime.datetime.now()\n",
        "  elapsed_time = (end_time - start_time).total_seconds()\n",
        "  #print(A)\n",
        "  ratio = (elapsed_time/(N * N))\n",
        "  print (\"length: \", N)\n",
        "  print(elapsed_time, \" sec\")\n",
        "  print (\"Ratio: \", ratio)"
      ],
      "metadata": {
        "colab": {
          "base_uri": "https://localhost:8080/"
        },
        "id": "mPUDNrxZJ9TW",
        "outputId": "d1d8e3be-9f66-4e1b-ea3c-16218d4752e3"
      },
      "execution_count": 29,
      "outputs": [
        {
          "output_type": "stream",
          "name": "stdout",
          "text": [
            "length:  5\n",
            "8e-06  sec\n",
            "Ratio:  3.2e-07\n",
            "length:  8\n",
            "7e-06  sec\n",
            "Ratio:  1.09375e-07\n",
            "length:  10\n",
            "7e-06  sec\n",
            "Ratio:  7e-08\n",
            "length:  100\n",
            "0.000355  sec\n",
            "Ratio:  3.55e-08\n",
            "length:  1000\n",
            "0.047233  sec\n",
            "Ratio:  4.7233e-08\n",
            "length:  2500\n",
            "0.300253  sec\n",
            "Ratio:  4.804048e-08\n",
            "length:  5000\n",
            "2.002261  sec\n",
            "Ratio:  8.009043999999999e-08\n",
            "length:  7500\n",
            "3.13211  sec\n",
            "Ratio:  5.5681955555555554e-08\n",
            "length:  10000\n",
            "4.818741  sec\n",
            "Ratio:  4.8187410000000005e-08\n"
          ]
        }
      ]
    },
    {
      "cell_type": "code",
      "source": [
        "#sorted (high to low) data\n",
        "size_array = [5,8,10,100,1000,2500,5000,7500,10000]\n",
        "\n",
        "for N in size_array:\n",
        "  A = list(range(N))\n",
        "  A.reverse()\n",
        "\n",
        "\n",
        "  start_time = datetime.datetime.now()\n",
        "  #print(A)\n",
        "  selection(A,False)\n",
        "  end_time = datetime.datetime.now()\n",
        "  elapsed_time = (end_time - start_time).total_seconds()\n",
        "  #print(A)\n",
        "  ratio = (elapsed_time/(N * N))\n",
        "  print (\"length: \", N)\n",
        "  print(elapsed_time, \" sec\")\n",
        "  print (\"Ratio: \", ratio)"
      ],
      "metadata": {
        "colab": {
          "base_uri": "https://localhost:8080/"
        },
        "id": "sUGrF5anKQJ2",
        "outputId": "ec0ca26e-1b09-44a8-e91c-2dc8123487ff"
      },
      "execution_count": 30,
      "outputs": [
        {
          "output_type": "stream",
          "name": "stdout",
          "text": [
            "length:  5\n",
            "1e-05  sec\n",
            "Ratio:  4.0000000000000003e-07\n",
            "length:  8\n",
            "8e-06  sec\n",
            "Ratio:  1.25e-07\n",
            "length:  10\n",
            "8e-06  sec\n",
            "Ratio:  8e-08\n",
            "length:  100\n",
            "0.000525  sec\n",
            "Ratio:  5.2499999999999994e-08\n",
            "length:  1000\n",
            "0.065899  sec\n",
            "Ratio:  6.5899e-08\n",
            "length:  2500\n",
            "0.432758  sec\n",
            "Ratio:  6.924128e-08\n",
            "length:  5000\n",
            "1.70308  sec\n",
            "Ratio:  6.812319999999999e-08\n",
            "length:  7500\n",
            "3.800664  sec\n",
            "Ratio:  6.756736e-08\n",
            "length:  10000\n",
            "7.910566  sec\n",
            "Ratio:  7.910566e-08\n"
          ]
        }
      ]
    }
  ]
}