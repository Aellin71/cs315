import random
def quickselect(A, i):
if len(A) == 1:
return A[0]
pivot = random.choice(A)
lows = [x for x in A if x < pivot]
highs = [x for x in A if x > pivot]
pivots = [x for x in A if x == pivot]
if i <= len(lows):
return quickselect(lows, i)
elif i <= len(lows) + len(pivots):
return pivot
else:
return quickselect(highs, i - len(lows) - len(pivots))
