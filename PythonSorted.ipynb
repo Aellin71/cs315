{
  "nbformat": 4,
  "nbformat_minor": 0,
  "metadata": {
    "colab": {
      "provenance": []
    },
    "kernelspec": {
      "name": "python3",
      "display_name": "Python 3"
    },
    "language_info": {
      "name": "python"
    }
  },
  "cells": [
    {
      "cell_type": "code",
      "source": [
        "import random\n",
        "import datetime\n",
        "import math\n",
        "# Alex Keim\n",
        "# 10/04/2025\n",
        "# Python Sorted()"
      ],
      "metadata": {
        "id": "fSME9MywceAq"
      },
      "execution_count": 1,
      "outputs": []
    },
    {
      "cell_type": "code",
      "source": [
        "#Random data\n",
        "size_array = [5,8,10,100,1000,2500,5000,7500,10000]\n",
        "\n",
        "for N in size_array:\n",
        "  A = list(range(N))\n",
        "\n",
        "  random.shuffle(A)\n",
        "\n",
        "\n",
        "  start_time = datetime.datetime.now()\n",
        "  #print(A)\n",
        "  x=sorted(A)\n",
        "  end_time = datetime.datetime.now()\n",
        "  elapsed_time = (end_time - start_time).total_seconds()\n",
        "  #print(A)\n",
        "  ratio = (elapsed_time/(N*(math.log(N,2))))\n",
        "  print (\"length: \", N)\n",
        "  print(elapsed_time, \" sec\")\n",
        "  print (\"Ratio: \", ratio)\n",
        "\n"
      ],
      "metadata": {
        "colab": {
          "base_uri": "https://localhost:8080/"
        },
        "id": "f1GS3NjwZqmS",
        "outputId": "3b2c0d18-56c3-4907-f339-78ee82ca3b05"
      },
      "execution_count": 3,
      "outputs": [
        {
          "output_type": "stream",
          "name": "stdout",
          "text": [
            "length:  5\n",
            "0.000125  sec\n",
            "Ratio:  1.0766913951834827e-05\n",
            "length:  8\n",
            "3e-06  sec\n",
            "Ratio:  1.25e-07\n",
            "length:  10\n",
            "2e-06  sec\n",
            "Ratio:  6.020599913279624e-08\n",
            "length:  100\n",
            "1e-05  sec\n",
            "Ratio:  1.505149978319906e-08\n",
            "length:  1000\n",
            "0.000153  sec\n",
            "Ratio:  1.535252977886304e-08\n",
            "length:  2500\n",
            "0.000694  sec\n",
            "Ratio:  2.459311423481544e-08\n",
            "length:  5000\n",
            "0.000924  sec\n",
            "Ratio:  1.5039414521743225e-08\n",
            "length:  7500\n",
            "0.001644  sec\n",
            "Ratio:  1.7028317893428536e-08\n",
            "length:  10000\n",
            "0.001914  sec\n",
            "Ratio:  1.44042852925215e-08\n"
          ]
        }
      ]
    },
    {
      "cell_type": "code",
      "source": [
        "#Sorted (high->low) data\n",
        "size_array = [5,8,10,100,1000,2500,5000,7500,10000]\n",
        "\n",
        "for N in size_array:\n",
        "  A = list(range(N))\n",
        "\n",
        "\n",
        "\n",
        "  start_time = datetime.datetime.now()\n",
        "  #print(A)\n",
        "  x=sorted(A)\n",
        "  end_time = datetime.datetime.now()\n",
        "  elapsed_time = (end_time - start_time).total_seconds()\n",
        "  #print(A)\n",
        "  ratio = (elapsed_time/(N*(math.log(N,2))))\n",
        "  print (\"length: \", N)\n",
        "  print(elapsed_time, \" sec\")\n",
        "  print (\"Ratio: \", ratio)\n",
        "\n"
      ],
      "metadata": {
        "id": "rPbegnxsNj7k",
        "outputId": "641a6b0a-26e4-4f9f-c669-763cad42fb16",
        "colab": {
          "base_uri": "https://localhost:8080/"
        }
      },
      "execution_count": 4,
      "outputs": [
        {
          "output_type": "stream",
          "name": "stdout",
          "text": [
            "length:  5\n",
            "0.000126  sec\n",
            "Ratio:  1.0853049263449507e-05\n",
            "length:  8\n",
            "4e-06  sec\n",
            "Ratio:  1.6666666666666665e-07\n",
            "length:  10\n",
            "2e-06  sec\n",
            "Ratio:  6.020599913279624e-08\n",
            "length:  100\n",
            "2e-06  sec\n",
            "Ratio:  3.0102999566398117e-09\n",
            "length:  1000\n",
            "8e-06  sec\n",
            "Ratio:  8.027466551039498e-10\n",
            "length:  2500\n",
            "2.8e-05  sec\n",
            "Ratio:  9.922293927591244e-10\n",
            "length:  5000\n",
            "6e-05  sec\n",
            "Ratio:  9.765853585547548e-10\n",
            "length:  7500\n",
            "0.000141  sec\n",
            "Ratio:  1.460457921516681e-09\n",
            "length:  10000\n",
            "0.00015  sec\n",
            "Ratio:  1.1288624837399293e-09\n"
          ]
        }
      ]
    },
    {
      "cell_type": "code",
      "source": [
        "#Sorted (low->high) data\n",
        "size_array = [5,8,10,100,1000,2500,5000,7500,10000]\n",
        "\n",
        "for N in size_array:\n",
        "  A = list(range(N))\n",
        "\n",
        "  A.reverse()\n",
        "\n",
        "\n",
        "  start_time = datetime.datetime.now()\n",
        "  #print(A)\n",
        "  x=sorted(A)\n",
        "  end_time = datetime.datetime.now()\n",
        "  elapsed_time = (end_time - start_time).total_seconds()\n",
        "  #print(A)\n",
        "  ratio = (elapsed_time/(N * (math.log(N,2))))\n",
        "  print (\"length: \", N)\n",
        "  print(elapsed_time, \" sec\")\n",
        "  print (\"Ratio: \", ratio)"
      ],
      "metadata": {
        "id": "VZ5zEXHKNknX",
        "outputId": "46b224ac-bc8d-4311-b0e6-9accdbd5054a",
        "colab": {
          "base_uri": "https://localhost:8080/"
        }
      },
      "execution_count": 5,
      "outputs": [
        {
          "output_type": "stream",
          "name": "stdout",
          "text": [
            "length:  5\n",
            "0.000125  sec\n",
            "Ratio:  1.0766913951834827e-05\n",
            "length:  8\n",
            "4e-06  sec\n",
            "Ratio:  1.6666666666666665e-07\n",
            "length:  10\n",
            "2e-06  sec\n",
            "Ratio:  6.020599913279624e-08\n",
            "length:  100\n",
            "2e-06  sec\n",
            "Ratio:  3.0102999566398117e-09\n",
            "length:  1000\n",
            "8e-06  sec\n",
            "Ratio:  8.027466551039498e-10\n",
            "length:  2500\n",
            "2.5e-05  sec\n",
            "Ratio:  8.859191006777897e-10\n",
            "length:  5000\n",
            "5.7e-05  sec\n",
            "Ratio:  9.277560906270171e-10\n",
            "length:  7500\n",
            "0.000119  sec\n",
            "Ratio:  1.2325850543296811e-09\n",
            "length:  10000\n",
            "0.000193  sec\n",
            "Ratio:  1.4524697290787093e-09\n"
          ]
        }
      ]
    },
    {
      "cell_type": "code",
      "source": [
        "#in all cases, the runtime appears to converge on N log N. While the ratios seem to be different between sorted and unsorted data, N lg N causes all of them to converge towards a ratio pretty cleanly"
      ],
      "metadata": {
        "id": "ZSJCvkskgT1d"
      },
      "execution_count": null,
      "outputs": []
    }
  ]
}