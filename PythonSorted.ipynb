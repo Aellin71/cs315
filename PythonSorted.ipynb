{
  "nbformat": 4,
  "nbformat_minor": 0,
  "metadata": {
    "colab": {
      "provenance": []
    },
    "kernelspec": {
      "name": "python3",
      "display_name": "Python 3"
    },
    "language_info": {
      "name": "python"
    }
  },
  "cells": [
    {
      "cell_type": "code",
      "source": [
        "import random\n",
        "import datetime\n",
        "import math\n",
        "# Alex Keim\n",
        "# 10/04/2025\n",
        "# Python Sort"
      ],
      "metadata": {
        "id": "fSME9MywceAq"
      },
      "execution_count": 1,
      "outputs": []
    },
    {
      "cell_type": "code",
      "source": [
        "#Random data\n",
        "size_array = [5,8,10,100,1000,2500,5000,7500,10000]\n",
        "\n",
        "for N in size_array:\n",
        "  A = list(range(N))\n",
        "\n",
        "  random.shuffle(A)\n",
        "\n",
        "\n",
        "  start_time = datetime.datetime.now()\n",
        "  #print(A)\n",
        "  A.sort()\n",
        "  end_time = datetime.datetime.now()\n",
        "  elapsed_time = (end_time - start_time).total_seconds()\n",
        "  #print(A)\n",
        "  ratio = (elapsed_time/(N*(math.log(N,2))))\n",
        "  print (\"length: \", N)\n",
        "  print(elapsed_time, \" sec\")\n",
        "  print (\"Ratio: \", ratio)\n",
        "\n",
        ""
      ],
      "metadata": {
        "colab": {
          "base_uri": "https://localhost:8080/"
        },
        "id": "f1GS3NjwZqmS",
        "outputId": "bd593016-936a-4b5e-c4f2-d374630026bb"
      },
      "execution_count": 12,
      "outputs": [
        {
          "output_type": "stream",
          "name": "stdout",
          "text": [
            "length:  5\n",
            "7e-06  sec\n",
            "Ratio:  6.029471813027504e-07\n",
            "length:  8\n",
            "6e-06  sec\n",
            "Ratio:  2.5e-07\n",
            "length:  10\n",
            "2e-06  sec\n",
            "Ratio:  6.020599913279624e-08\n",
            "length:  100\n",
            "1.6e-05  sec\n",
            "Ratio:  2.4082399653118493e-08\n",
            "length:  1000\n",
            "0.000188  sec\n",
            "Ratio:  1.8864546394942818e-08\n",
            "length:  2500\n",
            "0.000577  sec\n",
            "Ratio:  2.0447012843643388e-08\n",
            "length:  5000\n",
            "0.00126  sec\n",
            "Ratio:  2.0508292529649852e-08\n",
            "length:  7500\n",
            "0.001959  sec\n",
            "Ratio:  2.0291043037242394e-08\n",
            "length:  10000\n",
            "0.003089  sec\n",
            "Ratio:  2.3247041415150947e-08\n"
          ]
        }
      ]
    },
    {
      "cell_type": "code",
      "source": [
        "#Sorted (high->low) data\n",
        "size_array = [5,8,10,100,1000,2500,5000,7500,10000]\n",
        "\n",
        "for N in size_array:\n",
        "  A = list(range(N))\n",
        "\n",
        "\n",
        "\n",
        "  start_time = datetime.datetime.now()\n",
        "  #print(A)\n",
        "  A.sort()\n",
        "  end_time = datetime.datetime.now()\n",
        "  elapsed_time = (end_time - start_time).total_seconds()\n",
        "  #print(A)\n",
        "  ratio = (elapsed_time/(N*(math.log(N,2))))\n",
        "  print (\"length: \", N)\n",
        "  print(elapsed_time, \" sec\")\n",
        "  print (\"Ratio: \", ratio)\n",
        "\n"
      ],
      "metadata": {
        "id": "rPbegnxsNj7k",
        "outputId": "a5a13ce0-cb9f-4fad-c106-2d22db588a15",
        "colab": {
          "base_uri": "https://localhost:8080/"
        }
      },
      "execution_count": 15,
      "outputs": [
        {
          "output_type": "stream",
          "name": "stdout",
          "text": [
            "length:  5\n",
            "4e-06  sec\n",
            "Ratio:  3.4454124645871446e-07\n",
            "length:  8\n",
            "3e-06  sec\n",
            "Ratio:  1.25e-07\n",
            "length:  10\n",
            "2e-06  sec\n",
            "Ratio:  6.020599913279624e-08\n",
            "length:  100\n",
            "1e-06  sec\n",
            "Ratio:  1.5051499783199058e-09\n",
            "length:  1000\n",
            "7e-06  sec\n",
            "Ratio:  7.024033232159561e-10\n",
            "length:  2500\n",
            "1e-05  sec\n",
            "Ratio:  3.543676402711159e-10\n",
            "length:  5000\n",
            "1.8e-05  sec\n",
            "Ratio:  2.9297560756642646e-10\n",
            "length:  7500\n",
            "2.7e-05  sec\n",
            "Ratio:  2.7966215518404523e-10\n",
            "length:  10000\n",
            "4.9e-05  sec\n",
            "Ratio:  3.6876174468837697e-10\n"
          ]
        }
      ]
    },
    {
      "cell_type": "code",
      "source": [
        "#Sorted (low->high) data\n",
        "size_array = [5,8,10,100,1000,2500,5000,7500,10000]\n",
        "\n",
        "for N in size_array:\n",
        "  A = list(range(N))\n",
        "\n",
        "  A.reverse()\n",
        "\n",
        "\n",
        "  start_time = datetime.datetime.now()\n",
        "  #print(A)\n",
        "  A.sort()\n",
        "  end_time = datetime.datetime.now()\n",
        "  elapsed_time = (end_time - start_time).total_seconds()\n",
        "  #print(A)\n",
        "  ratio = (elapsed_time/(N * (math.log(N,2))))\n",
        "  print (\"length: \", N)\n",
        "  print(elapsed_time, \" sec\")\n",
        "  print (\"Ratio: \", ratio)"
      ],
      "metadata": {
        "id": "VZ5zEXHKNknX",
        "outputId": "65c8f864-3560-4125-aa8f-0e4a85dc6664",
        "colab": {
          "base_uri": "https://localhost:8080/"
        }
      },
      "execution_count": 13,
      "outputs": [
        {
          "output_type": "stream",
          "name": "stdout",
          "text": [
            "length:  5\n",
            "5e-06  sec\n",
            "Ratio:  4.306765580733931e-07\n",
            "length:  8\n",
            "3e-06  sec\n",
            "Ratio:  1.25e-07\n",
            "length:  10\n",
            "1e-06  sec\n",
            "Ratio:  3.010299956639812e-08\n",
            "length:  100\n",
            "2e-06  sec\n",
            "Ratio:  3.0102999566398117e-09\n",
            "length:  1000\n",
            "5e-06  sec\n",
            "Ratio:  5.017166594399686e-10\n",
            "length:  2500\n",
            "1.2e-05  sec\n",
            "Ratio:  4.2524116832533905e-10\n",
            "length:  5000\n",
            "2e-05  sec\n",
            "Ratio:  3.2552845285158495e-10\n",
            "length:  7500\n",
            "3.2e-05  sec\n",
            "Ratio:  3.314514431810907e-10\n",
            "length:  10000\n",
            "4.6e-05  sec\n",
            "Ratio:  3.461844950135784e-10\n"
          ]
        }
      ]
    },
    {
      "cell_type": "code",
      "source": [
        "#in all cases, the runtime appears to converge on N log N. While the ratios seem to be different between sorted and unsorted data, N lg N causes all of them to converge towards a ratio pretty cleanly"
      ],
      "metadata": {
        "id": "ZSJCvkskgT1d"
      },
      "execution_count": null,
      "outputs": []
    }
  ]
}